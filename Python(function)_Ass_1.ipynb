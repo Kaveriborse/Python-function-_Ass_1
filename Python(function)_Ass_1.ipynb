{
 "cells": [
  {
   "cell_type": "markdown",
   "id": "d8691ea1",
   "metadata": {},
   "source": [
    "# 1.In Python, what is the difference between a built-in function and a user-defined function? Provide an example of each."
   ]
  },
  {
   "cell_type": "markdown",
   "id": "0bebb2a1",
   "metadata": {},
   "source": [
    "In Python, both built-in functions and user-defined functions are used to perform specific tasks or operations. However, there are differences between them in terms of their origin, availability, and usage.\n",
    "\n",
    "Built-in Functions:\n",
    "\n",
    "Built-in functions are functions that are already defined in the Python programming language. They are readily available for use without the need for any additional definitions. Python provides a wide range of built-in functions that cover various tasks such as manipulating strings, performing mathematical operations, working with data structures, and more."
   ]
  },
  {
   "cell_type": "code",
   "execution_count": 4,
   "id": "2eec35fd",
   "metadata": {},
   "outputs": [
    {
     "data": {
      "text/plain": [
       "5"
      ]
     },
     "execution_count": 4,
     "metadata": {},
     "output_type": "execute_result"
    }
   ],
   "source": [
    "#Examples of built-in functions:\n",
    "#Using built-in functions\n",
    "length = len(\"hello\")        # Returns the length of a string\n",
    "absolute = abs(-10)          # Returns the absolute value of a number\n",
    "maximum = max(5, 10, 3)      # Returns the maximum value among the given numbers\n",
    "uppercase = \"hello\".upper()  # Converts a string to uppercase\n",
    "length"
   ]
  },
  {
   "cell_type": "markdown",
   "id": "cc5aacc3",
   "metadata": {},
   "source": [
    "User-defined Functions:\n",
    "\n",
    "User-defined functions are functions that you create yourself to perform specific tasks. They allow you to group a sequence of statements into a reusable block of code. You define the function using the def keyword, specify a function name, parameters (optional), and the code block to execute when the function is called.\n"
   ]
  },
  {
   "cell_type": "code",
   "execution_count": 3,
   "id": "6e992731",
   "metadata": {},
   "outputs": [
    {
     "data": {
      "text/plain": [
       "12"
      ]
     },
     "execution_count": 3,
     "metadata": {},
     "output_type": "execute_result"
    }
   ],
   "source": [
    "#Examples of user-defined functions:\n",
    "#Defining a user-defined function\n",
    "def add_numbers(a, b):\n",
    "    result = a + b\n",
    "    return result\n",
    "#Using the user-defined function\n",
    "sum_result = add_numbers(5, 7)  # Calls the function and gets the result\n",
    "sum_result"
   ]
  },
  {
   "cell_type": "markdown",
   "id": "55bd2d05",
   "metadata": {},
   "source": [
    "The key differences between built-in and user-defined functions are that built-in functions are pre-defined by Python and ready to use, while user-defined functions are created by you for specific tasks. Both types of functions play a crucial role in organizing and modularizing code, making it more readable and maintainable."
   ]
  },
  {
   "cell_type": "markdown",
   "id": "0ae6815a",
   "metadata": {},
   "source": [
    "# 2. How can you pass arguments to a function in Python? Explain the difference between positional arguments and keyword arguments."
   ]
  },
  {
   "cell_type": "markdown",
   "id": "93fd48f4",
   "metadata": {},
   "source": [
    "In Python, we can pass arguments to a function to provide the necessary data for the function's execution. Arguments are values or variables that you supply when calling a function. There are two main ways to pass arguments to a function: positional arguments and keyword arguments.\n",
    "\n",
    "Positional Arguments:\n",
    "\n",
    "Positional arguments are passed to a function in the order they appear in the function's parameter list. The position of the argument determines which parameter it corresponds to in the function definition."
   ]
  },
  {
   "cell_type": "code",
   "execution_count": 5,
   "id": "76017561",
   "metadata": {},
   "outputs": [
    {
     "name": "stdout",
     "output_type": "stream",
     "text": [
      "Hello, Alice! You are 30 years old.\n"
     ]
    }
   ],
   "source": [
    "#Example:\n",
    "def greet(name, age):\n",
    "    print(f\"Hello, {name}! You are {age} years old.\")\n",
    "\n",
    "greet(\"Alice\", 30)  # \"Alice\" maps to name, 30 maps to age"
   ]
  },
  {
   "cell_type": "markdown",
   "id": "075e8abb",
   "metadata": {},
   "source": [
    "Keyword Arguments:\n",
    "\n",
    "Keyword arguments are passed to a function using the parameter names as keywords, followed by the corresponding values. This allows you to specify the arguments in any order, which can make the code more readable and reduces the risk of passing arguments in the wrong order."
   ]
  },
  {
   "cell_type": "code",
   "execution_count": 7,
   "id": "dc1aea8b",
   "metadata": {},
   "outputs": [
    {
     "name": "stdout",
     "output_type": "stream",
     "text": [
      "Hello, Bob! You are 25 years old.\n"
     ]
    }
   ],
   "source": [
    "#Example:\n",
    "greet(age=25, name=\"Bob\")  # Using keyword arguments\n",
    "#In this example, age=25 and name=\"Bob\" are keyword arguments."
   ]
  },
  {
   "cell_type": "markdown",
   "id": "e7618e08",
   "metadata": {},
   "source": [
    "Combining Positional and Keyword Arguments:\n",
    "You can use a mix of positional and keyword arguments when calling a function. However, positional arguments must come before keyword arguments."
   ]
  },
  {
   "cell_type": "code",
   "execution_count": 8,
   "id": "dc512437",
   "metadata": {},
   "outputs": [
    {
     "name": "stdout",
     "output_type": "stream",
     "text": [
      "Hello, Carol! You are 40 years old.\n"
     ]
    }
   ],
   "source": [
    "#In this example, \"Carol\" is a positional argument for the name parameter, and age=40 is a keyword argument \n",
    "#for the age parameter.\n",
    "\n",
    "greet(\"Carol\", age=40)  # Mixing positional and keyword arguments"
   ]
  },
  {
   "cell_type": "markdown",
   "id": "120ff7f3",
   "metadata": {},
   "source": [
    "Positional arguments are passed in the order they appear in the function's parameter list.\n",
    "Keyword arguments are passed using parameter names and values, allowing for flexibility in argument order.\n",
    "You can use a mix of positional and keyword arguments, but positional arguments must come before keyword arguments."
   ]
  },
  {
   "cell_type": "markdown",
   "id": "b59c9d5d",
   "metadata": {},
   "source": [
    "# 3. What is the purpose of the return statement in a function? Can a function have multiple return statements? Explain with an example."
   ]
  },
  {
   "cell_type": "markdown",
   "id": "76325c96",
   "metadata": {},
   "source": [
    "The return statement in a function is used to specify the value that the function will produce as its result when it's called. It allows the function to provide output to the caller or to perform a computation that can be used further in the program. When a return statement is executed, the function's execution stops, and the specified value is returned to the caller.\n",
    "\n",
    "Yes, a function can have multiple return statements, but only one of them will be executed when the function is called. Once a return statement is executed, the function terminates, and the value associated with that return statement is returned to the caller.\n",
    "\n",
    "Once a return statement is executed, the function exits immediately, and no code after the executed return statement is executed. This is why only one return statement is effectively executed in a function call, even if there are multiple return statements in the function's code."
   ]
  },
  {
   "cell_type": "code",
   "execution_count": 9,
   "id": "b4732ed8",
   "metadata": {},
   "outputs": [
    {
     "name": "stdout",
     "output_type": "stream",
     "text": [
      "5.0\n",
      "Cannot divide by zero!\n"
     ]
    }
   ],
   "source": [
    "#Here's an example to illustrate the concept of the return statement and multiple returns:\n",
    "def divide(a, b):\n",
    "    if b == 0:\n",
    "        return \"Cannot divide by zero!\"  # First return statement\n",
    "    result = a / b\n",
    "    return result  # Second return statement\n",
    "\n",
    "#Calling the function with different arguments\n",
    "print(divide(10, 2))  # Output: 5.0\n",
    "print(divide(10, 0))  # Output: Cannot divide by zero!"
   ]
  },
  {
   "cell_type": "markdown",
   "id": "da2f9fa3",
   "metadata": {},
   "source": [
    "# 4. What are lambda functions in Python? How are they different from regular functions? Provide an example where a lambda function can be useful."
   ]
  },
  {
   "cell_type": "markdown",
   "id": "ef36a319",
   "metadata": {},
   "source": [
    "Lambda functions, also known as anonymous functions, are a concise way to create small, unnamed functions in Python. They are defined using the lambda keyword, followed by a list of parameters, a colon :, and the expression that the function should return. Lambda functions are typically used for simple operations where a full function definition is not necessary.\n",
    "\n",
    "Here's the general syntax of a lambda function:\n",
    "\n",
    "lambda arguments: expression\n",
    "\n",
    "Lambda functions are different from regular (named) functions in a few key ways:\n",
    "\n",
    "Anonymous: Lambda functions don't have a name. They are used for small, one-off operations where creating a full function definition is unnecessary.\n",
    "\n",
    "Single Expression: Lambda functions are limited to a single expression. They can't contain multiple statements or complex logic like regular functions.\n",
    "\n",
    "Short-Lived: Lambda functions are often used in the context of being passed as arguments to other functions (e.g., map, filter, etc.) or used in list comprehensions."
   ]
  },
  {
   "cell_type": "code",
   "execution_count": 12,
   "id": "27b327f6",
   "metadata": {},
   "outputs": [],
   "source": [
    "#Here's an example of a lambda function that calculates the square of a number:\n",
    "square = lambda x: x ** 2\n",
    "\n",
    "result = square(5)  # Output: 25"
   ]
  },
  {
   "cell_type": "markdown",
   "id": "7e532bea",
   "metadata": {},
   "source": [
    "Lambda functions are particularly useful in cases where you need a quick, simple function definition without creating a named function. For instance, they are often used with built-in functions like map, filter, and sorted, or in situations where you need to pass a small function as an argument to another function."
   ]
  },
  {
   "cell_type": "code",
   "execution_count": null,
   "id": "17010dd2",
   "metadata": {},
   "outputs": [],
   "source": [
    "#Example where a lambda function can be useful:\n",
    "numbers = [1, 2, 3, 4, 5]\n",
    "squared_numbers = map(lambda x: x ** 2, numbers)\n",
    "#squared_numbers contains [1, 4, 9, 16, 25]"
   ]
  },
  {
   "cell_type": "markdown",
   "id": "c77e281c",
   "metadata": {},
   "source": [
    "In this example, the lambda function is used with the map function to square each number in the list. The lambda function is a compact way to define the squaring operation without explicitly creating a named function."
   ]
  },
  {
   "cell_type": "markdown",
   "id": "83967748",
   "metadata": {},
   "source": [
    "# 5. How does the concept of \"scope\" apply to functions in Python? Explain the difference between local scope and global scope."
   ]
  },
  {
   "cell_type": "markdown",
   "id": "defd7360",
   "metadata": {},
   "source": [
    "In Python, the concept of \"scope\" refers to the region in our code where a particular variable is accessible and can be referenced. It determines where a variable's value can be accessed and modified.\n",
    "\n",
    "There are two main types of scopes in Python: local scope and global scope.\n",
    "\n",
    "Local Scope:\n",
    "\n",
    "A variable is in the local scope when it's defined inside a function. It is only accessible within that function and not outside of it. This means the variable can't be accessed by other functions or code blocks outside the function where it's defined.\n",
    "\n",
    "\n",
    "\n",
    "In this example, global_variable is defined outside any function, making it accessible globally. It can be accessed both inside and outside functions.\n",
    "\n",
    "Enclosing Scope (Nested Functions):\n",
    "Python also supports nested functions, where a function is defined within another function. In this case, the inner function can access variables from the outer (enclosing) function's scope."
   ]
  },
  {
   "cell_type": "code",
   "execution_count": 16,
   "id": "bd22342d",
   "metadata": {},
   "outputs": [
    {
     "name": "stdout",
     "output_type": "stream",
     "text": [
      "10\n"
     ]
    }
   ],
   "source": [
    "#Example of local scope:\n",
    "def my_function():\n",
    "    local_variable = 10\n",
    "    print(local_variable)\n",
    "\n",
    "my_function()  # Output: 10\n",
    "\n",
    "#This would result in an error because local_variable is not accessible here:\n",
    "#print(local_variable)"
   ]
  },
  {
   "cell_type": "markdown",
   "id": "dfc3c14b",
   "metadata": {},
   "source": [
    "Global Scope:\n",
    "A variable is in the global scope when it's defined at the top level of a script or module. It can be accessed from anywhere in the code, both inside and outside functions."
   ]
  },
  {
   "cell_type": "code",
   "execution_count": 19,
   "id": "adb2e3d8",
   "metadata": {},
   "outputs": [
    {
     "name": "stdout",
     "output_type": "stream",
     "text": [
      "20\n",
      "20\n"
     ]
    }
   ],
   "source": [
    "# Example of global scope:\n",
    "global_variable = 20\n",
    "\n",
    "def another_function():\n",
    "    print(global_variable)\n",
    "\n",
    "another_function()  # Output: 20\n",
    "print(global_variable)  # Output: 20"
   ]
  },
  {
   "cell_type": "markdown",
   "id": "507883d7",
   "metadata": {},
   "source": [
    "Local Scope: Variables defined inside a function are accessible only within that function.\n",
    "\n",
    "Global Scope: Variables defined at the top level of a script or module are accessible anywhere in the code.\n",
    "\n",
    "Enclosing Scope: Inner functions can access variables from the outer functions (enclosing scopes)."
   ]
  },
  {
   "cell_type": "markdown",
   "id": "31805dce",
   "metadata": {},
   "source": [
    "# 6. How can you use the \"return\" statement in a Python function to return multiple values?"
   ]
  },
  {
   "cell_type": "markdown",
   "id": "3ca436f1",
   "metadata": {},
   "source": [
    "In Python, you can use the return statement in a function to return multiple values by grouping them into a data structure, such as a tuple, list, or dictionary. While the return statement typically returns a single value, you can use these data structures to effectively return multiple values as a single entity. Here are a few examples:\n",
    "\n",
    "Using a Tuple:\n",
    "You can return multiple values as a tuple using the return statement."
   ]
  },
  {
   "cell_type": "code",
   "execution_count": 20,
   "id": "6ef24cbd",
   "metadata": {},
   "outputs": [
    {
     "name": "stdout",
     "output_type": "stream",
     "text": [
      "(5, 10)\n"
     ]
    }
   ],
   "source": [
    "def get_coordinates():\n",
    "    x = 5\n",
    "    y = 10\n",
    "    return x, y  # Returns a tuple (x, y)\n",
    "\n",
    "result = get_coordinates()\n",
    "print(result)  # Output: (5, 10)"
   ]
  },
  {
   "cell_type": "markdown",
   "id": "868dabc6",
   "metadata": {},
   "source": [
    "Using a List:\n",
    "You can return multiple values as a list using the return statement."
   ]
  },
  {
   "cell_type": "code",
   "execution_count": 25,
   "id": "732310c6",
   "metadata": {},
   "outputs": [
    {
     "name": "stdout",
     "output_type": "stream",
     "text": [
      "['Alice', 30]\n"
     ]
    }
   ],
   "source": [
    "def get_info():\n",
    "    name = \"Alice\"\n",
    "    age = 30\n",
    "    return [name, age]  # Returns a list [name, age]\n",
    "\n",
    "result = get_info()\n",
    "print(result)  # Output: ['Alice', 30]"
   ]
  },
  {
   "cell_type": "markdown",
   "id": "59ff693e",
   "metadata": {},
   "source": [
    "Using a Dictionary:\n",
    "You can return multiple values as a dictionary using the return statement."
   ]
  },
  {
   "cell_type": "markdown",
   "id": "6b1e65ae",
   "metadata": {},
   "source": [
    "#def get_person():\n",
    "    person = {\n",
    "        \"name\": \"Bob\",\n",
    "        \"age\": 25\n",
    "    }\n",
    "    return person  # Returns a dictionary\n",
    "\n",
    "result = get_person()\n",
    "print(result)  # Output: {'name': 'Bob', 'age': 25}"
   ]
  },
  {
   "cell_type": "markdown",
   "id": "0baa8746",
   "metadata": {},
   "source": [
    "In all of these examples, the return statement is used to return a single data structure that contains multiple values. The caller can then access the individual values by indexing or key access.\n",
    "\n",
    "when return multiple values using data structures like tuples, lists, or dictionaries, you are essentially returning a single object that contains multiple elements. This can be very useful for cases where you need to package related data together and return them from a function.\n"
   ]
  },
  {
   "cell_type": "markdown",
   "id": "342337c0",
   "metadata": {},
   "source": [
    "# 7. What is the difference between the \"pass by value\" and \"pass by reference\" concepts when it comes to function arguments in Python?"
   ]
  },
  {
   "cell_type": "markdown",
   "id": "3018fbbd",
   "metadata": {},
   "source": [
    "In Python, when it comes to function arguments, the concepts of \"pass by value\" and \"pass by reference\" work differently compared to some other programming languages. Python uses a mechanism that's often referred to as \"pass by object reference\" or \"call by object reference.\"\n",
    "\n",
    "Pass by Value:\n",
    "\n",
    "In a \"pass by value\" scenario, a copy of the actual value of the variable is passed to the function. Changes made to the parameter within the function do not affect the original variable outside the function.\n",
    "\n",
    "Pass by Reference:\n",
    "\n",
    "In a \"pass by reference\" scenario, a reference to the memory location of the variable is passed to the function. Changes made to the parameter within the function directly affect the original variable outside the function.\n",
    "\n",
    " While Python uses references to objects when passing arguments to functions, it doesn't neatly fit into the traditional \"pass by value\" or \"pass by reference\" categories used in other programming languages. Instead, it's often referred to as \"pass by object reference.\""
   ]
  },
  {
   "cell_type": "markdown",
   "id": "1190afdc",
   "metadata": {},
   "source": [
    "# 8. Create a function that can intake integer or decimal value and do following operations:\n",
    "a. Logarithmic function (log x)\n",
    "\n",
    "b. Exponential function (exp(x))\n",
    "\n",
    "c. Power function with base 2 (2x)\n",
    "\n",
    "d. Square root"
   ]
  },
  {
   "cell_type": "code",
   "execution_count": 27,
   "id": "c777fb46",
   "metadata": {},
   "outputs": [
    {
     "name": "stdout",
     "output_type": "stream",
     "text": [
      "Enter a value: 2\n",
      "Logarithmic: 0.6931471805599453\n",
      "Exponential: 7.38905609893065\n",
      "Power of 2: 4.0\n",
      "Square Root: 1.4142135623730951\n"
     ]
    }
   ],
   "source": [
    "import math\n",
    "\n",
    "def perform_operations(x):\n",
    "    logarithmic = math.log(x)\n",
    "    exponential = math.exp(x)\n",
    "    power_of_2 = math.pow(2, x)\n",
    "    square_root = math.sqrt(x)\n",
    "    \n",
    "    return logarithmic, exponential, power_of_2, square_root\n",
    "\n",
    "value = float(input(\"Enter a value: \"))\n",
    "logarithmic_result, exponential_result, power_of_2_result, square_root_result = perform_operations(value)\n",
    "\n",
    "print(f\"Logarithmic: {logarithmic_result}\")\n",
    "print(f\"Exponential: {exponential_result}\")\n",
    "print(f\"Power of 2: {power_of_2_result}\")\n",
    "print(f\"Square Root: {square_root_result}\")\n"
   ]
  },
  {
   "cell_type": "markdown",
   "id": "be79baa6",
   "metadata": {},
   "source": [
    "# 9. Create a function that takes a full name as an argument and returns first name and last name."
   ]
  },
  {
   "cell_type": "code",
   "execution_count": 28,
   "id": "96d23014",
   "metadata": {},
   "outputs": [
    {
     "name": "stdout",
     "output_type": "stream",
     "text": [
      "Enter your full name: Ram Vishal Patil\n",
      "First Name: Ram\n",
      "Last Name: Patil\n"
     ]
    }
   ],
   "source": [
    "def extract_names(full_name):\n",
    "    names = full_name.split()  # Split the full name into words\n",
    "    first_name = names[0]\n",
    "    last_name = names[-1]  # Last element is the last name\n",
    "    return first_name, last_name\n",
    "\n",
    "input_full_name = input(\"Enter your full name: \")\n",
    "first_name, last_name = extract_names(input_full_name)\n",
    "\n",
    "print(f\"First Name: {first_name}\")\n",
    "print(f\"Last Name: {last_name}\")"
   ]
  }
 ],
 "metadata": {
  "kernelspec": {
   "display_name": "Python 3 (ipykernel)",
   "language": "python",
   "name": "python3"
  },
  "language_info": {
   "codemirror_mode": {
    "name": "ipython",
    "version": 3
   },
   "file_extension": ".py",
   "mimetype": "text/x-python",
   "name": "python",
   "nbconvert_exporter": "python",
   "pygments_lexer": "ipython3",
   "version": "3.9.7"
  }
 },
 "nbformat": 4,
 "nbformat_minor": 5
}
